{
 "cells": [
  {
   "cell_type": "code",
   "execution_count": 2,
   "id": "65730587",
   "metadata": {},
   "outputs": [],
   "source": [
    "import json\n",
    "import numpy as np\n",
    "import matplotlib.pyplot as plt"
   ]
  },
  {
   "cell_type": "code",
   "execution_count": 3,
   "id": "a955a137",
   "metadata": {},
   "outputs": [],
   "source": [
    "reserve_price = np.arange(0,101) + 0.0"
   ]
  },
  {
   "cell_type": "code",
   "execution_count": 4,
   "id": "6a9eb9c3",
   "metadata": {},
   "outputs": [],
   "source": [
    "reserve_price /= np.sum(reserve_price)"
   ]
  },
  {
   "cell_type": "code",
   "execution_count": 7,
   "id": "79479b4d",
   "metadata": {},
   "outputs": [],
   "source": [
    "strats0 = []\n",
    "strats1 = []\n",
    "for i in range(0,101):\n",
    "    for j in range(i+1,101):\n",
    "        strats0.append(i)\n",
    "        strats1.append(j)\n",
    "strats0 = np.array(strats0)\n",
    "strats1 = np.array(strats1)\n",
    "p_strats = np.array([1]*len(strats1))/len(strats1)"
   ]
  },
  {
   "cell_type": "code",
   "execution_count": 8,
   "id": "1a958b8d",
   "metadata": {},
   "outputs": [
    {
     "data": {
      "text/plain": [
       "array([0.00019802, 0.00019802, 0.00019802, ..., 0.00019802, 0.00019802,\n",
       "       0.00019802])"
      ]
     },
     "execution_count": 8,
     "metadata": {},
     "output_type": "execute_result"
    }
   ],
   "source": [
    "p_strats"
   ]
  },
  {
   "cell_type": "code",
   "execution_count": 164,
   "id": "4a0fac57",
   "metadata": {},
   "outputs": [
    {
     "name": "stderr",
     "output_type": "stream",
     "text": [
      "/tmp/ipykernel_10291/2054007292.py:13: RuntimeWarning: divide by zero encountered in divide\n",
      "  bid_hit_prob = np.nan_to_num(((100-average)/(100-strats1)),1)*(0.0 + (strats1 <=average)) + (0.0 + (strats1 >average))\n"
     ]
    }
   ],
   "source": [
    "# Assuming everyone is rational\n",
    "for n_iter in range(500):\n",
    "    reward = np.zeros(len(strats))\n",
    "\n",
    "    # reward on the first bid\n",
    "    for i in range(1,101):\n",
    "        reward += (100 - strats0)*(0.0+ (strats0 >= i))*reserve_price[i]\n",
    "\n",
    "    for i in range(1,101):\n",
    "        residual_prob = (strats0 < i)*p_strats\n",
    "        if np.sum(residual_prob) >0 :\n",
    "            residual_prob /= np.sum(residual_prob)\n",
    "        average = np.inner(residual_prob, strats1)\n",
    "        bid_hit_prob = np.nan_to_num(((100-average)/(100-strats1)),1)*(0.0 + (strats1 <=average)) + (0.0 + (strats1 >average)) \n",
    "        reward += bid_hit_prob*(100-strats1)* reserve_price[i] \n",
    "\n",
    "    scaler = np.exp(reward*1e-1)\n",
    "    sum_norm = np.inner(p_strats, scaler)\n",
    "    p_strats = (p_strats*scaler)/sum_norm"
   ]
  },
  {
   "cell_type": "code",
   "execution_count": 165,
   "id": "10b9f6e7",
   "metadata": {},
   "outputs": [
    {
     "data": {
      "text/plain": [
       "[<matplotlib.lines.Line2D at 0x7f43c7501a50>]"
      ]
     },
     "execution_count": 165,
     "metadata": {},
     "output_type": "execute_result"
    },
    {
     "data": {
      "image/png": "[encoded data removed]",
      "text/plain": [
       "<Figure size 640x480 with 1 Axes>"
      ]
     },
     "metadata": {},
     "output_type": "display_data"
    }
   ],
   "source": [
    "plt.plot(p_strats)"
   ]
  },
  {
   "cell_type": "code",
   "execution_count": 9,
   "id": "67991676",
   "metadata": {},
   "outputs": [
    {
     "name": "stderr",
     "output_type": "stream",
     "text": [
      "/tmp/ipykernel_28910/3019788704.py:11: RuntimeWarning: divide by zero encountered in divide\n",
      "  bid_hit_prob = np.nan_to_num(((100-average)/(100-strats1)),1)*(0.0 + (strats1 <=average)) + (0.0 + (strats1 >average))\n"
     ]
    }
   ],
   "source": [
    "# Assuming that 1/3 person is rational, 1/3 is anchor biased, 1/3 is random guys\n",
    "\n",
    "reward = np.zeros(len(strats0))\n",
    "\n",
    "# reward on the first bid\n",
    "for i in range(1,101):\n",
    "    reward += (100 - strats0)*(0.0+ (strats0 >= i))*reserve_price[i]\n",
    "\n",
    "for i in range(1,101):\n",
    "    average = i/3.0 + (100-i)/3.0 + 67/3.0\n",
    "    bid_hit_prob = np.nan_to_num(((100-average)/(100-strats1)),1)*(0.0 + (strats1 <=average)) + (0.0 + (strats1 >average)) \n",
    "    reward += bid_hit_prob*(100-strats1)* reserve_price[i] \n"
   ]
  },
  {
   "cell_type": "code",
   "execution_count": 14,
   "id": "53bda102",
   "metadata": {},
   "outputs": [
    {
     "data": {
      "text/plain": [
       "55"
      ]
     },
     "execution_count": 14,
     "metadata": {},
     "output_type": "execute_result"
    }
   ],
   "source": [
    "strats1[np.argmax(reward)]"
   ]
  },
  {
   "cell_type": "code",
   "execution_count": 9,
   "id": "52166f59",
   "metadata": {},
   "outputs": [],
   "source": [
    "strat = strat_1 + strat_2 + strat_3\n",
    "reward = 1000*np.concatenate([reward_1, reward_2, reward_3])"
   ]
  },
  {
   "cell_type": "code",
   "execution_count": 21,
   "id": "f49d868d",
   "metadata": {},
   "outputs": [
    {
     "name": "stdout",
     "output_type": "stream",
     "text": [
      "[(27, 3), (28, 2)] 82.5000000000019 0.01166689566146115\n",
      "[(27, 3), (28, 4)] 82.5000000000019 0.011173853687209925\n",
      "[(28, 2), (28, 4)] 82.5000000000019 0.010717647952519883\n",
      "[(27, 3), (27, 4)] 82.5000000000019 0.010684305131720405\n",
      "[(27, 2), (27, 3)] 82.5000000000019 0.01044081790433436\n",
      "[(27, 4), (28, 2)] 82.50000000000192 0.010248086669521705\n",
      "[(27, 2), (28, 2)] 82.50000000000192 0.010014540530731074\n",
      "[(26, 3), (27, 3)] 82.5000000000019 0.009996615831001827\n",
      "[(27, 3), (29, 2)] 82.5000000000019 0.009956372979939376\n",
      "[(27, 4), (28, 4)] 82.5000000000019 0.00981500343723316\n",
      "[(27, 3), (29, 4)] 82.5000000000019 0.00971539791402059\n",
      "[(27, 3), (28, 3)] 82.50000000000193 0.009595218503680641\n",
      "[(27, 2), (28, 4)] 82.5000000000019 0.009591326937521365\n",
      "[(26, 3), (28, 2)] 82.5000000000019 0.009588474325192274\n",
      "[(28, 2), (29, 2)] 82.5000000000019 0.009549874507942936\n",
      "[(28, 2), (29, 4)] 82.5000000000019 0.00931873796417317\n",
      "[(27, 1), (27, 3)] 82.50000000000189 0.009275734696711958\n",
      "[(26, 4), (27, 3)] 82.5000000000019 0.009235900256924083\n",
      "[(28, 2), (28, 3)] 82.50000000000193 0.00920346523488723\n",
      "[(26, 3), (28, 4)] 82.5000000000019 0.009183266251980016\n",
      "[(27, 2), (27, 4)] 82.50000000000192 0.009171111998349187\n",
      "[(28, 4), (29, 2)] 82.5000000000019 0.009146297659578953\n",
      "[(28, 4), (29, 4)] 82.5000000000019 0.0089249289256162\n",
      "[(27, 3), (29, 3)] 82.50000000000192 0.008918025355767842\n",
      "[(27, 1), (28, 2)] 82.5000000000019 0.008897025302391951\n",
      "[(26, 4), (28, 2)] 82.5000000000019 0.00885881722181545\n",
      "[(28, 3), (28, 4)] 82.50000000000193 0.00881452761162985\n",
      "[(26, 3), (27, 4)] 82.5000000000019 0.008780929255793997\n",
      "[(27, 4), (29, 2)] 82.5000000000019 0.00874558033029709\n",
      "[(26, 3), (27, 2)] 82.5000000000019 0.008580818524023608\n",
      "[(28, 2), (29, 3)] 82.50000000000193 0.008553920506778223\n",
      "[(27, 2), (29, 2)] 82.5000000000019 0.008546275173784397\n",
      "[(27, 4), (29, 4)] 82.5000000000019 0.008533910196922439\n",
      "[(27, 1), (28, 4)] 82.50000000000189 0.008521037803460021\n",
      "[(26, 4), (28, 4)] 82.5000000000019 0.008484444392974428\n",
      "[(27, 4), (28, 3)] 82.50000000000193 0.008428345782120721\n",
      "[(27, 2), (29, 4)] 82.5000000000019 0.008339428842544122\n",
      "[(27, 2), (28, 3)] 82.50000000000193 0.008236270160857649\n",
      "[(28, 4), (29, 3)] 82.50000000000192 0.008192432586029938\n",
      "[(26, 3), (29, 2)] 82.50000000000189 0.00818267596285599\n",
      "[(27, 1), (27, 4)] 82.5000000000019 0.008147714340961938\n",
      "[(26, 4), (27, 4)] 82.5000000000019 0.008112724159921616\n",
      "[(26, 3), (29, 4)] 82.50000000000189 0.007984629858766265\n",
      "[(27, 1), (27, 2)] 82.5000000000019 0.007962034097843134\n",
      "[(29, 2), (29, 4)] 82.50000000000189 0.00795248655390909\n",
      "[(26, 4), (27, 2)] 82.5000000000019 0.007927841316545626\n",
      "[(26, 3), (28, 3)] 82.50000000000192 0.007885860038250224\n",
      "[(28, 3), (29, 2)] 82.50000000000192 0.007854114345869488\n",
      "[(27, 4), (29, 3)] 82.50000000000193 0.007833505965841144\n",
      "[(28, 3), (29, 4)] 82.50000000000192 0.007664020450628604\n",
      "[(27, 2), (29, 3)] 82.50000000000193 0.0076549862937783\n",
      "[(26, 3), (27, 1)] 82.50000000000188 0.007623291282231327\n",
      "[(27, 1), (29, 2)] 82.50000000000188 0.007592602599094569\n",
      "[(26, 3), (26, 4)] 82.5000000000019 0.007590553224546855\n",
      "[(26, 4), (29, 2)] 82.5000000000019 0.007559996333288742\n",
      "[(27, 1), (29, 4)] 82.50000000000188 0.0074088380981564865\n",
      "[(26, 4), (29, 4)] 82.5000000000019 0.007377021004980841\n",
      "[(26, 3), (29, 3)] 82.5000000000019 0.007329306752751527\n",
      "[(27, 1), (28, 3)] 82.5000000000019 0.007317190818053346\n",
      "[(29, 2), (29, 3)] 82.5000000000019 0.007299801547687133\n",
      "[(26, 4), (28, 3)] 82.50000000000193 0.007285767302117651\n",
      "[(29, 3), (29, 4)] 82.5000000000019 0.0071231237391424515\n",
      "[(26, 4), (27, 1)] 82.50000000000189 0.007043179322127766\n",
      "[(28, 3), (29, 3)] 82.50000000000193 0.007035010743841166\n",
      "[(27, 3), (30, 1)] 82.50000000000192 0.006923951988954782\n",
      "[(27, 1), (29, 3)] 82.5000000000019 0.006800771991107616\n",
      "[(26, 4), (29, 3)] 82.50000000000192 0.006771566224529717\n",
      "[(28, 2), (30, 1)] 82.50000000000193 0.006641261102488704\n",
      "[(28, 4), (30, 1)] 82.50000000000192 0.006360601998258921\n",
      "[(27, 4), (30, 1)] 82.50000000000193 0.006081931486951398\n",
      "[(27, 2), (30, 1)] 82.50000000000193 0.005943328871558687\n",
      "[(27, 3), (30, 4)] 82.5000000000019 0.005775898469790662\n",
      "[(26, 3), (30, 1)] 82.5000000000019 0.0056904713817112875\n",
      "[(29, 2), (30, 1)] 82.5000000000019 0.005667563550084896\n",
      "[(26, 2), (27, 3)] 82.5000000000019 0.005586272036211308\n",
      "[(28, 2), (30, 4)] 82.50000000000192 0.005540080275041781\n",
      "[(29, 4), (30, 1)] 82.5000000000019 0.005530390956929557\n",
      "[(28, 3), (30, 1)] 82.50000000000193 0.005461980056003502\n",
      "[(26, 2), (28, 2)] 82.5000000000019 0.005358195903321211\n",
      "[(28, 4), (30, 4)] 82.5000000000019 0.005305956974759011\n",
      "[(27, 1), (30, 1)] 82.5000000000019 0.005280117164479957\n",
      "[(26, 4), (30, 1)] 82.50000000000192 0.005257441816797299\n",
      "[(26, 2), (28, 4)] 82.5000000000019 0.005131759020430064\n",
      "[(27, 3), (28, 5)] 82.5000000000019 0.005095481922815254\n",
      "[(29, 3), (30, 1)] 82.50000000000193 0.005076494778462109\n",
      "[(27, 4), (30, 4)] 82.50000000000192 0.005073492540804995\n",
      "[(27, 2), (30, 4)] 82.50000000000192 0.004957871485743874\n",
      "[(26, 2), (27, 4)] 82.5000000000019 0.0049069265422271215\n",
      "[(28, 2), (28, 5)] 82.50000000000192 0.004887443752702217\n",
      "[(26, 2), (27, 2)] 82.5000000000019 0.004795101400205853\n",
      "[(26, 3), (30, 4)] 82.5000000000019 0.004746940042109718\n",
      "[(29, 2), (30, 4)] 82.5000000000019 0.004727830535017746\n",
      "[(28, 4), (28, 5)] 82.5000000000019 0.0046809008138780075\n",
      "[(29, 4), (30, 4)] 82.5000000000019 0.004613402391644284\n",
      "[(26, 2), (26, 3)] 82.5000000000019 0.004591094970505939\n",
      "[(26, 2), (29, 2)] 82.5000000000019 0.004572612840729556\n",
      "[(28, 3), (30, 4)] 82.50000000000193 0.004556334633432471\n",
      "[(27, 4), (28, 5)] 82.50000000000192 0.004475821322417859\n",
      "[(26, 2), (29, 4)] 82.5000000000019 0.0044619414463437646\n",
      "[(26, 2), (28, 3)] 82.50000000000193 0.00440674725906089\n",
      "[(27, 1), (30, 4)] 82.5000000000019 0.004404626245139455\n",
      "[(26, 4), (30, 4)] 82.5000000000019 0.004385710674062163\n",
      "[(27, 2), (28, 5)] 82.50000000000192 0.004373820742067942\n",
      "[(26, 2), (27, 1)] 82.50000000000189 0.004260019553992668\n",
      "[(26, 2), (26, 4)] 82.5000000000019 0.004241724993187978\n",
      "[(27, 3), (28, 1)] 82.5000000000019 0.004234921309082668\n",
      "[(29, 3), (30, 4)] 82.50000000000193 0.004234766282260907\n",
      "[(26, 3), (28, 5)] 82.5000000000019 0.004187737596110251\n",
      "[(28, 5), (29, 2)] 82.5000000000019 0.004170879240920896\n",
      "[(26, 2), (29, 3)] 82.50000000000192 0.004095736202118879\n",
      "[(28, 5), (29, 4)] 82.5000000000019 0.004069931044017812\n",
      "[(28, 1), (28, 2)] 82.50000000000192 0.004062018079700348\n",
      "[(28, 3), (28, 5)] 82.50000000000193 0.004019586022915953\n",
      "[(28, 1), (28, 4)] 82.5000000000019 0.003890357556492472\n",
      "[(27, 1), (28, 5)] 82.5000000000019 0.003885749295326417\n",
      "[(26, 4), (28, 5)] 82.5000000000019 0.003869062029961897\n",
      "[(28, 5), (29, 3)] 82.50000000000193 0.0037358992979997486\n",
      "[(27, 4), (28, 1)] 82.50000000000192 0.003719913323425542\n",
      "[(27, 2), (28, 1)] 82.50000000000192 0.00363513931425314\n",
      "[(26, 3), (28, 1)] 82.5000000000019 0.0034804831910413506\n",
      "[(28, 1), (29, 2)] 82.5000000000019 0.003466471992746744\n",
      "[(28, 1), (29, 4)] 82.5000000000019 0.0033825726331465703\n",
      "[(28, 1), (28, 3)] 82.50000000000193 0.0033407302312108388\n",
      "[(30, 1), (30, 4)] 82.50000000000193 0.003287871165768297\n",
      "[(27, 1), (28, 1)] 82.5000000000019 0.0032294967859366956\n",
      "[(26, 4), (28, 1)] 82.5000000000019 0.003215627782620987\n",
      "[(26, 2), (30, 1)] 82.50000000000192 0.003179928256713708\n",
      "[(28, 1), (29, 3)] 82.50000000000193 0.0031049545038802353\n",
      "[(27, 3), (30, 2)] 82.50000000000193 0.0029071726431322675\n",
      "[(28, 5), (30, 1)] 82.50000000000193 0.002900551001258312\n",
      "[(28, 2), (30, 2)] 82.50000000000195 0.0027884786930719697\n",
      "[(28, 4), (30, 2)] 82.50000000000193 0.0026706378312109235\n",
      "[(26, 2), (30, 4)] 82.5000000000019 0.0026526675490089855\n",
      "[(27, 4), (30, 2)] 82.50000000000195 0.0025536319235713056\n",
      "[(27, 2), (30, 2)] 82.50000000000195 0.002495436584785133\n",
      "[(28, 5), (30, 4)] 82.50000000000192 0.0024196135554439067\n",
      "[(28, 1), (30, 1)] 82.50000000000193 0.0024106856680836024\n",
      "[(26, 3), (30, 2)] 82.50000000000193 0.002389268838638438\n",
      "[(29, 2), (30, 2)] 82.50000000000193 0.0023796504846226884\n",
      "[(26, 2), (28, 5)] 82.5000000000019 0.0023401760979541403\n",
      "[(29, 4), (30, 2)] 82.50000000000193 0.0023220555719420744\n",
      "[(28, 3), (30, 2)] 82.50000000000196 0.0022933317593013063\n",
      "[(27, 1), (30, 2)] 82.50000000000193 0.0022169726476434616\n",
      "[(26, 4), (30, 2)] 82.50000000000193 0.002207451907095082\n",
      "[(29, 3), (30, 2)] 82.50000000000196 0.0021314773364245225\n",
      "[(26, 1), (27, 3)] 82.50000000000193 0.0020706907057476357\n",
      "[(28, 1), (30, 4)] 82.50000000000192 0.0020109723007384374\n",
      "[(26, 1), (28, 2)] 82.50000000000193 0.0019861486130037208\n",
      "[(26, 2), (28, 1)] 82.5000000000019 0.0019449507964805954\n",
      "[(26, 1), (28, 4)] 82.50000000000193 0.001902214149053167\n",
      "[(26, 1), (27, 4)] 82.50000000000193 0.0018188743976148049\n",
      "[(27, 3), (30, 5)] 82.50000000000199 0.0018178795566733406\n",
      "[(26, 1), (27, 2)] 82.50000000000193 0.0017774236267336623\n",
      "[(28, 1), (28, 5)] 82.50000000000192 0.0017740742949842576\n",
      "[(28, 2), (30, 5)] 82.500000000002 0.0017436592292960453\n",
      "[(26, 1), (26, 3)] 82.50000000000193 0.001701803568284301\n",
      "[(26, 1), (29, 2)] 82.50000000000193 0.0016949527070834456\n",
      "[(28, 4), (30, 5)] 82.50000000000199 0.0016699723451600126\n",
      "[(30, 1), (30, 2)] 82.50000000000196 0.0016548783115315564\n",
      "[(26, 1), (29, 4)] 82.50000000000193 0.0016539296014663975\n",
      "[(26, 1), (28, 3)] 82.50000000000196 0.0016334705028266084\n",
      "[(27, 4), (30, 5)] 82.500000000002 0.001596807564935954\n",
      "[(26, 1), (27, 1)] 82.50000000000192 0.00157908222864465\n",
      "[(26, 1), (26, 4)] 82.50000000000193 0.0015723008945494603\n",
      "[(27, 2), (30, 5)] 82.500000000002 0.0015604175290972295\n",
      "[(26, 1), (29, 3)] 82.50000000000195 0.0015181865172240064\n",
      "[(26, 3), (30, 5)] 82.50000000000199 0.0014940299426035033\n",
      "[(29, 2), (30, 5)] 82.50000000000199 0.0014880155047697797\n",
      "[(29, 4), (30, 5)] 82.50000000000199 0.0014520009204354097\n",
      "[(28, 3), (30, 5)] 82.50000000000202 0.0014340396782943183\n",
      "[(27, 3), (29, 1)] 82.50000000000199 0.001422242652190736\n",
      "[(27, 1), (30, 5)] 82.50000000000199 0.001386291682186686\n",
      "[(30, 2), (30, 4)] 82.50000000000195 0.0013804846022203586\n",
      "[(26, 4), (30, 5)] 82.50000000000199 0.0013803382828767824\n",
      "[(28, 2), (29, 1)] 82.50000000000199 0.0013641753754737832\n",
      "[(26, 2), (30, 2)] 82.50000000000193 0.0013351624115517313\n",
      "[(29, 3), (30, 5)] 82.50000000000202 0.0013328307434895851\n",
      "[(28, 4), (29, 1)] 82.50000000000199 0.0013065254452896884\n",
      "[(27, 4), (29, 1)] 82.50000000000199 0.001249283990160904\n",
      "[(27, 2), (29, 1)] 82.50000000000199 0.0012208137535632327\n",
      "[(28, 5), (30, 2)] 82.50000000000195 0.001217859761927814\n",
      "[(26, 1), (30, 1)] 82.50000000000195 0.001178719518748506\n",
      "[(27, 3), (27, 5)] 82.50000000000207 0.0011715040748834346\n",
      "[(26, 3), (29, 1)] 82.50000000000198 0.0011688745275893172\n",
      "[(29, 1), (29, 2)] 82.50000000000198 0.0011641690508239874\n",
      "[(29, 1), (29, 4)] 82.50000000000198 0.0011359925537875672\n",
      "[(27, 5), (28, 2)] 82.50000000000207 0.0011236739446405088\n",
      "[(28, 3), (29, 1)] 82.500000000002 0.0011219403331299092\n",
      "[(27, 1), (29, 1)] 82.50000000000196 0.0010845840427356145\n",
      "[(26, 4), (29, 1)] 82.50000000000199 0.0010799263202847472\n",
      "[(27, 5), (28, 4)] 82.50000000000207 0.0010761875835590248\n",
      "[(29, 1), (29, 3)] 82.50000000000199 0.001042758154457163\n",
      "[(30, 1), (30, 5)] 82.50000000000202 0.0010348093562389876\n",
      "[(27, 4), (27, 5)] 82.50000000000207 0.0010290376841854704\n",
      "[(28, 1), (30, 2)] 82.50000000000195 0.001012179090297504\n",
      "[(27, 2), (27, 5)] 82.50000000000207 0.0010055866942044528\n",
      "[(26, 1), (30, 4)] 82.50000000000193 0.0009832772202222736\n",
      "[(26, 3), (27, 5)] 82.50000000000207 0.0009628042514328416\n",
      "[(27, 5), (29, 2)] 82.50000000000207 0.0009589283409499581\n",
      "[(26, 1), (26, 2)] 82.50000000000193 0.0009509956014462885\n",
      "[(27, 5), (29, 4)] 82.50000000000207 0.000935719304824308\n",
      "[(27, 5), (28, 3)] 82.5000000000021 0.0009241444629812241\n",
      "[(27, 1), (27, 5)] 82.50000000000206 0.00089337401297956\n",
      "[(26, 4), (27, 5)] 82.50000000000207 0.0008895374378195669\n",
      "[(26, 1), (28, 5)] 82.50000000000193 0.0008674444897124555\n",
      "[(30, 4), (30, 5)] 82.500000000002 0.0008632286570964553\n",
      "[(27, 5), (29, 3)] 82.50000000000209 0.0008589219463941702\n",
      "[(26, 2), (30, 5)] 82.50000000000199 0.0008348883092761234\n",
      "[(29, 1), (30, 1)] 82.50000000000199 0.000809597092352139\n",
      "[(28, 5), (30, 5)] 82.500000000002 0.0007615379737882468\n",
      "[(26, 1), (28, 1)] 82.50000000000193 0.0007209443992885372\n",
      "[(29, 1), (30, 4)] 82.50000000000199 0.000675358612295878\n",
      "[(27, 5), (30, 1)] 82.50000000000209 0.0006668667201362495\n",
      "[(26, 2), (29, 1)] 82.50000000000199 0.0006531861579657635\n",
      "[(28, 1), (30, 5)] 82.500000000002 0.0006329241162511469\n",
      "[(28, 5), (29, 1)] 82.50000000000199 0.0005957995311672985\n",
      "[(27, 3), (30, 3)] 82.50000000000216 0.0005658514949676269\n",
      "[(27, 5), (30, 4)] 82.50000000000207 0.000556294219621068\n",
      "[(28, 2), (30, 3)] 82.50000000000219 0.0005427489285466299\n",
      "[(26, 2), (27, 5)] 82.50000000000207 0.0005380307253024993\n",
      "[(28, 4), (30, 3)] 82.50000000000216 0.0005198124070401284\n",
      "[(27, 4), (30, 3)] 82.50000000000219 0.0004970384008543151\n",
      "[(28, 1), (29, 1)] 82.50000000000199 0.000495176740630622\n",
      "[(26, 1), (30, 2)] 82.50000000000196 0.0004949111640719326\n",
      "[(27, 5), (28, 5)] 82.50000000000207 0.0004907612477385674\n",
      "[(27, 2), (30, 3)] 82.50000000000219 0.0004857112718893155\n",
      "[(26, 3), (30, 3)] 82.50000000000216 0.00046504680326328384\n",
      "[(29, 2), (30, 3)] 82.50000000000216 0.00046317468878402803\n",
      "[(29, 4), (30, 3)] 82.50000000000216 0.0004519644266346911\n",
      "[(28, 3), (30, 3)] 82.5000000000022 0.0004463736295547998\n",
      "[(30, 2), (30, 5)] 82.50000000000203 0.0004344873355728463\n",
      "[(27, 1), (30, 3)] 82.50000000000216 0.00043151110751364884\n",
      "[(26, 4), (30, 3)] 82.50000000000216 0.00042965799249991\n",
      "[(29, 3), (30, 3)] 82.5000000000022 0.0004148703174387131\n",
      "[(27, 5), (28, 1)] 82.50000000000207 0.0004078780569143343\n",
      "[(29, 1), (30, 2)] 82.50000000000202 0.00033992704204191657\n",
      "[(30, 1), (30, 3)] 82.5000000000022 0.00032210517967749743\n",
      "[(26, 1), (30, 5)] 82.50000000000202 0.00030947212222195134\n",
      "[(27, 5), (30, 2)] 82.5000000000021 0.0002799985742951586\n",
      "[(30, 3), (30, 4)] 82.50000000000219 0.00026869724362311797\n",
      "[(26, 2), (30, 3)] 82.50000000000216 0.0002598757416027177\n",
      "[(26, 1), (29, 1)] 82.50000000000202 0.0002421196994445042\n",
      "[(28, 5), (30, 3)] 82.50000000000219 0.0002370439776171323\n",
      "[(29, 1), (30, 5)] 82.50000000000207 0.00021255924444260843\n",
      "[(26, 1), (27, 5)] 82.5000000000021 0.00019943447348585232\n",
      "[(28, 1), (30, 3)] 82.50000000000219 0.0001970103333122709\n",
      "[(27, 5), (30, 5)] 82.50000000000216 0.00017508546845722351\n",
      "[(27, 3), (29, 5)] 82.49999999991061 0.00014108824602952774\n",
      "[(27, 5), (29, 1)] 82.50000000000216 0.00013698048372046937\n",
      "[(28, 2), (29, 5)] 82.49999999991061 0.00013532789971232954\n",
      "[(30, 2), (30, 3)] 82.50000000000222 0.0001352429029062357\n",
      "[(28, 4), (29, 5)] 82.49999999991061 0.00012960895469203425\n",
      "[(27, 4), (29, 5)] 82.49999999991061 0.000123930530906996\n",
      "[(27, 2), (29, 5)] 82.49999999991061 0.00012110624790618126\n",
      "[(26, 3), (29, 5)] 82.49999999991061 0.00011595381187038912\n",
      "[(29, 2), (29, 5)] 82.49999999991061 0.00011548702270292213\n",
      "[(29, 4), (29, 5)] 82.49999999991061 0.00011269187903316736\n",
      "[(28, 3), (29, 5)] 82.49999999991064 0.00011129788120701907\n",
      "[(27, 1), (29, 5)] 82.4999999999106 0.00010759209057995442\n",
      "[(26, 4), (29, 5)] 82.49999999991061 0.00010713003870007774\n",
      "[(29, 3), (29, 5)] 82.49999999991063 0.00010344291026480502\n",
      "[(26, 1), (30, 3)] 82.5000000000022 9.632940882538512e-05\n",
      "[(30, 3), (30, 5)] 82.50000000000226 8.456852707361087e-05\n",
      "[(29, 5), (30, 1)] 82.49999999991063 8.031304192334932e-05\n",
      "[(29, 5), (30, 4)] 82.49999999991061 6.699641717465632e-05\n",
      "[(29, 1), (30, 3)] 82.50000000000225 6.61633306758484e-05\n",
      "[(26, 2), (29, 5)] 82.49999999991061 6.479688203430091e-05\n",
      "[(28, 5), (29, 5)] 82.49999999991061 5.9104057038458174e-05\n",
      "[(27, 5), (30, 3)] 82.50000000000233 5.4498865840665474e-05\n",
      "[(28, 1), (29, 5)] 82.49999999991061 4.9122150641859116e-05\n",
      "[(29, 5), (30, 2)] 82.49999999991064 3.372118679314275e-05\n",
      "[(26, 1), (29, 5)] 82.49999999991064 2.4018576345746792e-05\n",
      "[(29, 5), (30, 5)] 82.4999999999107 2.1086142318664684e-05\n",
      "[(29, 1), (29, 5)] 82.4999999999107 1.6497028565880264e-05\n",
      "[(27, 5), (29, 5)] 82.49999999991078 1.3588634934149905e-05\n",
      "[(29, 5), (30, 3)] 82.49999999991087 6.56348497364216e-06\n"
     ]
    }
   ],
   "source": [
    "for i in range(276):\n",
    "    print(list(map(lambda x:((x//5 + 26),(1 +x % 5)), strat[idx_argsort[i]])), reward[idx_argsort[i]], p_strat[idx_argsort[i]])"
   ]
  },
  {
   "cell_type": "code",
   "execution_count": 23,
   "id": "0f282265",
   "metadata": {},
   "outputs": [],
   "source": [
    "samples = np.random.choice(276,p=p_strat[idx_argsort[:276]],size=5)"
   ]
  },
  {
   "cell_type": "code",
   "execution_count": 24,
   "id": "207a1c28",
   "metadata": {},
   "outputs": [
    {
     "name": "stdout",
     "output_type": "stream",
     "text": [
      "[(26, 'H'), (27, 'G')]\n",
      "[(26, 'K'), (27, 'K')]\n",
      "[(26, 'K'), (28, 'G')]\n",
      "[(26, 'G'), (28, 'I')]\n",
      "[(28, 'I'), (30, 'I')]\n"
     ]
    }
   ],
   "source": [
    "for i in idx_argsort[:276][samples]:\n",
    "    print(list(map(lambda x:((x//5 + 26),chr(ord('G') +x % 5)), strat[idx_argsort[i]])))"
   ]
  },
  {
   "cell_type": "code",
   "execution_count": 20,
   "id": "b5b833dd",
   "metadata": {},
   "outputs": [
    {
     "data": {
      "text/plain": [
       "array([886, 150,   6, 194,  66])"
      ]
     },
     "execution_count": 20,
     "metadata": {},
     "output_type": "execute_result"
    }
   ],
   "source": [
    "samples"
   ]
  },
  {
   "cell_type": "code",
   "execution_count": null,
   "id": "50293d47",
   "metadata": {},
   "outputs": [],
   "source": []
  }
 ],
 "metadata": {
  "kernelspec": {
   "display_name": "Python 3 (ipykernel)",
   "language": "python",
   "name": "python3"
  },
  "language_info": {
   "codemirror_mode": {
    "name": "ipython",
    "version": 3
   },
   "file_extension": ".py",
   "mimetype": "text/x-python",
   "name": "python",
   "nbconvert_exporter": "python",
   "pygments_lexer": "ipython3",
   "version": "3.11.6"
  }
 },
 "nbformat": 4,
 "nbformat_minor": 5
}
