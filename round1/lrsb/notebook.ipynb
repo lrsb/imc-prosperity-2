{
 "cells": [
  {
   "cell_type": "code",
   "id": "initial_id",
   "metadata": {
    "collapsed": true,
    "ExecuteTime": {
     "end_time": "2024-04-08T14:35:51.857622Z",
     "start_time": "2024-04-08T14:35:51.102948Z"
    }
   },
   "source": [
    "from collections import defaultdict\n",
    "import pandas as pd\n",
    "\n",
    "prices = []\n",
    "trades = []\n",
    "\n",
    "for day in range(-2, 1):\n",
    "    prices.append(pd.read_csv(f'../../data/prices_round_1_day_{day}.csv', sep=';'))\n",
    "    trades.append(pd.read_csv(f'../../data/trades_round_1_day_{day}_nn.csv', sep=';'))\n",
    "\n",
    "prices = pd.concat(prices, axis=0, ignore_index=True)\n",
    "trades = pd.concat(trades, axis=0, ignore_index=True)"
   ],
   "outputs": [],
   "execution_count": 1
  },
  {
   "metadata": {
    "ExecuteTime": {
     "end_time": "2024-04-08T13:35:49.152991Z",
     "start_time": "2024-04-08T13:35:49.129378Z"
    }
   },
   "cell_type": "code",
   "source": "prices.head()",
   "id": "7252a2fdeb7f2c6a",
   "outputs": [
    {
     "data": {
      "text/plain": [
       "   day  timestamp    product  bid_price_1  bid_volume_1  bid_price_2  \\\n",
       "0   -2          0  AMETHYSTS         9996             1       9995.0   \n",
       "1   -2          0  STARFRUIT         4997            26          NaN   \n",
       "2   -2        100  AMETHYSTS        10000             5       9995.0   \n",
       "3   -2        100  STARFRUIT         5000             5       4998.0   \n",
       "4   -2        200  STARFRUIT         4997             1       4996.0   \n",
       "\n",
       "   bid_volume_2  bid_price_3  bid_volume_3  ask_price_1  ask_volume_1  \\\n",
       "0          25.0          NaN           NaN        10004             1   \n",
       "1           NaN          NaN           NaN         5003            26   \n",
       "2          20.0          NaN           NaN        10005            20   \n",
       "3           6.0       4997.0          20.0         5004            20   \n",
       "4          30.0          NaN           NaN         5003            31   \n",
       "\n",
       "   ask_price_2  ask_volume_2  ask_price_3  ask_volume_3  mid_price  \\\n",
       "0      10005.0          25.0          NaN           NaN    10000.0   \n",
       "1          NaN           NaN          NaN           NaN     5000.0   \n",
       "2          NaN           NaN          NaN           NaN    10002.5   \n",
       "3          NaN           NaN          NaN           NaN     5002.0   \n",
       "4          NaN           NaN          NaN           NaN     5000.0   \n",
       "\n",
       "   profit_and_loss  \n",
       "0              0.0  \n",
       "1              0.0  \n",
       "2              0.0  \n",
       "3              0.0  \n",
       "4              0.0  "
      ],
      "text/html": [
       "<div>\n",
       "<style scoped>\n",
       "    .dataframe tbody tr th:only-of-type {\n",
       "        vertical-align: middle;\n",
       "    }\n",
       "\n",
       "    .dataframe tbody tr th {\n",
       "        vertical-align: top;\n",
       "    }\n",
       "\n",
       "    .dataframe thead th {\n",
       "        text-align: right;\n",
       "    }\n",
       "</style>\n",
       "<table border=\"1\" class=\"dataframe\">\n",
       "  <thead>\n",
       "    <tr style=\"text-align: right;\">\n",
       "      <th></th>\n",
       "      <th>day</th>\n",
       "      <th>timestamp</th>\n",
       "      <th>product</th>\n",
       "      <th>bid_price_1</th>\n",
       "      <th>bid_volume_1</th>\n",
       "      <th>bid_price_2</th>\n",
       "      <th>bid_volume_2</th>\n",
       "      <th>bid_price_3</th>\n",
       "      <th>bid_volume_3</th>\n",
       "      <th>ask_price_1</th>\n",
       "      <th>ask_volume_1</th>\n",
       "      <th>ask_price_2</th>\n",
       "      <th>ask_volume_2</th>\n",
       "      <th>ask_price_3</th>\n",
       "      <th>ask_volume_3</th>\n",
       "      <th>mid_price</th>\n",
       "      <th>profit_and_loss</th>\n",
       "    </tr>\n",
       "  </thead>\n",
       "  <tbody>\n",
       "    <tr>\n",
       "      <th>0</th>\n",
       "      <td>-2</td>\n",
       "      <td>0</td>\n",
       "      <td>AMETHYSTS</td>\n",
       "      <td>9996</td>\n",
       "      <td>1</td>\n",
       "      <td>9995.0</td>\n",
       "      <td>25.0</td>\n",
       "      <td>NaN</td>\n",
       "      <td>NaN</td>\n",
       "      <td>10004</td>\n",
       "      <td>1</td>\n",
       "      <td>10005.0</td>\n",
       "      <td>25.0</td>\n",
       "      <td>NaN</td>\n",
       "      <td>NaN</td>\n",
       "      <td>10000.0</td>\n",
       "      <td>0.0</td>\n",
       "    </tr>\n",
       "    <tr>\n",
       "      <th>1</th>\n",
       "      <td>-2</td>\n",
       "      <td>0</td>\n",
       "      <td>STARFRUIT</td>\n",
       "      <td>4997</td>\n",
       "      <td>26</td>\n",
       "      <td>NaN</td>\n",
       "      <td>NaN</td>\n",
       "      <td>NaN</td>\n",
       "      <td>NaN</td>\n",
       "      <td>5003</td>\n",
       "      <td>26</td>\n",
       "      <td>NaN</td>\n",
       "      <td>NaN</td>\n",
       "      <td>NaN</td>\n",
       "      <td>NaN</td>\n",
       "      <td>5000.0</td>\n",
       "      <td>0.0</td>\n",
       "    </tr>\n",
       "    <tr>\n",
       "      <th>2</th>\n",
       "      <td>-2</td>\n",
       "      <td>100</td>\n",
       "      <td>AMETHYSTS</td>\n",
       "      <td>10000</td>\n",
       "      <td>5</td>\n",
       "      <td>9995.0</td>\n",
       "      <td>20.0</td>\n",
       "      <td>NaN</td>\n",
       "      <td>NaN</td>\n",
       "      <td>10005</td>\n",
       "      <td>20</td>\n",
       "      <td>NaN</td>\n",
       "      <td>NaN</td>\n",
       "      <td>NaN</td>\n",
       "      <td>NaN</td>\n",
       "      <td>10002.5</td>\n",
       "      <td>0.0</td>\n",
       "    </tr>\n",
       "    <tr>\n",
       "      <th>3</th>\n",
       "      <td>-2</td>\n",
       "      <td>100</td>\n",
       "      <td>STARFRUIT</td>\n",
       "      <td>5000</td>\n",
       "      <td>5</td>\n",
       "      <td>4998.0</td>\n",
       "      <td>6.0</td>\n",
       "      <td>4997.0</td>\n",
       "      <td>20.0</td>\n",
       "      <td>5004</td>\n",
       "      <td>20</td>\n",
       "      <td>NaN</td>\n",
       "      <td>NaN</td>\n",
       "      <td>NaN</td>\n",
       "      <td>NaN</td>\n",
       "      <td>5002.0</td>\n",
       "      <td>0.0</td>\n",
       "    </tr>\n",
       "    <tr>\n",
       "      <th>4</th>\n",
       "      <td>-2</td>\n",
       "      <td>200</td>\n",
       "      <td>STARFRUIT</td>\n",
       "      <td>4997</td>\n",
       "      <td>1</td>\n",
       "      <td>4996.0</td>\n",
       "      <td>30.0</td>\n",
       "      <td>NaN</td>\n",
       "      <td>NaN</td>\n",
       "      <td>5003</td>\n",
       "      <td>31</td>\n",
       "      <td>NaN</td>\n",
       "      <td>NaN</td>\n",
       "      <td>NaN</td>\n",
       "      <td>NaN</td>\n",
       "      <td>5000.0</td>\n",
       "      <td>0.0</td>\n",
       "    </tr>\n",
       "  </tbody>\n",
       "</table>\n",
       "</div>"
      ]
     },
     "execution_count": 2,
     "metadata": {},
     "output_type": "execute_result"
    }
   ],
   "execution_count": 2
  },
  {
   "metadata": {
    "ExecuteTime": {
     "end_time": "2024-04-08T13:35:49.167882Z",
     "start_time": "2024-04-08T13:35:49.155180Z"
    }
   },
   "cell_type": "code",
   "source": "trades.head()",
   "id": "dfa98b2be38c5816",
   "outputs": [
    {
     "data": {
      "text/plain": [
       "   timestamp  buyer  seller     symbol   currency   price  quantity\n",
       "0          0    NaN     NaN  AMETHYSTS  SEASHELLS  9996.0         1\n",
       "1          0    NaN     NaN  STARFRUIT  SEASHELLS  5003.0         1\n",
       "2          0    NaN     NaN  AMETHYSTS  SEASHELLS  9996.0         1\n",
       "3        100    NaN     NaN  STARFRUIT  SEASHELLS  5004.0         6\n",
       "4        900    NaN     NaN  STARFRUIT  SEASHELLS  5001.0         2"
      ],
      "text/html": [
       "<div>\n",
       "<style scoped>\n",
       "    .dataframe tbody tr th:only-of-type {\n",
       "        vertical-align: middle;\n",
       "    }\n",
       "\n",
       "    .dataframe tbody tr th {\n",
       "        vertical-align: top;\n",
       "    }\n",
       "\n",
       "    .dataframe thead th {\n",
       "        text-align: right;\n",
       "    }\n",
       "</style>\n",
       "<table border=\"1\" class=\"dataframe\">\n",
       "  <thead>\n",
       "    <tr style=\"text-align: right;\">\n",
       "      <th></th>\n",
       "      <th>timestamp</th>\n",
       "      <th>buyer</th>\n",
       "      <th>seller</th>\n",
       "      <th>symbol</th>\n",
       "      <th>currency</th>\n",
       "      <th>price</th>\n",
       "      <th>quantity</th>\n",
       "    </tr>\n",
       "  </thead>\n",
       "  <tbody>\n",
       "    <tr>\n",
       "      <th>0</th>\n",
       "      <td>0</td>\n",
       "      <td>NaN</td>\n",
       "      <td>NaN</td>\n",
       "      <td>AMETHYSTS</td>\n",
       "      <td>SEASHELLS</td>\n",
       "      <td>9996.0</td>\n",
       "      <td>1</td>\n",
       "    </tr>\n",
       "    <tr>\n",
       "      <th>1</th>\n",
       "      <td>0</td>\n",
       "      <td>NaN</td>\n",
       "      <td>NaN</td>\n",
       "      <td>STARFRUIT</td>\n",
       "      <td>SEASHELLS</td>\n",
       "      <td>5003.0</td>\n",
       "      <td>1</td>\n",
       "    </tr>\n",
       "    <tr>\n",
       "      <th>2</th>\n",
       "      <td>0</td>\n",
       "      <td>NaN</td>\n",
       "      <td>NaN</td>\n",
       "      <td>AMETHYSTS</td>\n",
       "      <td>SEASHELLS</td>\n",
       "      <td>9996.0</td>\n",
       "      <td>1</td>\n",
       "    </tr>\n",
       "    <tr>\n",
       "      <th>3</th>\n",
       "      <td>100</td>\n",
       "      <td>NaN</td>\n",
       "      <td>NaN</td>\n",
       "      <td>STARFRUIT</td>\n",
       "      <td>SEASHELLS</td>\n",
       "      <td>5004.0</td>\n",
       "      <td>6</td>\n",
       "    </tr>\n",
       "    <tr>\n",
       "      <th>4</th>\n",
       "      <td>900</td>\n",
       "      <td>NaN</td>\n",
       "      <td>NaN</td>\n",
       "      <td>STARFRUIT</td>\n",
       "      <td>SEASHELLS</td>\n",
       "      <td>5001.0</td>\n",
       "      <td>2</td>\n",
       "    </tr>\n",
       "  </tbody>\n",
       "</table>\n",
       "</div>"
      ]
     },
     "execution_count": 3,
     "metadata": {},
     "output_type": "execute_result"
    }
   ],
   "execution_count": 3
  },
  {
   "metadata": {
    "ExecuteTime": {
     "end_time": "2024-04-08T13:37:28.380494Z",
     "start_time": "2024-04-08T13:35:49.170158Z"
    }
   },
   "cell_type": "code",
   "source": [
    "spread_dist = defaultdict(lambda: defaultdict(int))\n",
    "\n",
    "for price in prices.iterrows():\n",
    "    for trade in trades[(trades['timestamp'] == price[1]['timestamp']) & (trades['symbol'] == price[1]['product'])].iterrows():\n",
    "        spread_dist[price[1]['product']][abs(trade[1]['price'] - (price[1]['ask_price_1'] + price[1]['bid_price_1']) / 2)] += trade[1]['quantity']"
   ],
   "id": "7c5cdfac1b9f8b7",
   "outputs": [],
   "execution_count": 4
  },
  {
   "metadata": {
    "ExecuteTime": {
     "end_time": "2024-04-08T13:37:29.341542Z",
     "start_time": "2024-04-08T13:37:28.383060Z"
    }
   },
   "cell_type": "code",
   "source": [
    "import matplotlib.pyplot as plt\n",
    "\n",
    "def plot_histogram(dictionary):\n",
    "    # Sort the dictionary by keys\n",
    "    sorted_dict = sorted(dictionary.items())\n",
    "\n",
    "    # Extract keys and values\n",
    "    keys = [item[0] for item in sorted_dict]\n",
    "    values = [item[1] for item in sorted_dict]\n",
    "\n",
    "    # Plot histogram\n",
    "    plt.bar(keys, values)\n",
    "    plt.xlabel('Spread')\n",
    "    plt.ylabel('Trades')\n",
    "    plt.show()\n",
    "\n",
    "plot_histogram(spread_dist['AMETHYSTS'])\n",
    "plot_histogram(spread_dist['STARFRUIT'])"
   ],
   "id": "24d369a4719008e0",
   "outputs": [
    {
     "data": {
      "text/plain": [
       "<Figure size 640x480 with 1 Axes>"
      ],
      "image/png": "[encoded data removed]"
     },
     "metadata": {},
     "output_type": "display_data"
    },
    {
     "data": {
      "text/plain": [
       "<Figure size 640x480 with 1 Axes>"
      ],
      "image/png": "[encoded data removed]"
     },
     "metadata": {},
     "output_type": "display_data"
    }
   ],
   "execution_count": 5
  },
  {
   "metadata": {
    "ExecuteTime": {
     "end_time": "2024-04-08T13:37:29.344603Z",
     "start_time": "2024-04-08T13:37:29.342555Z"
    }
   },
   "cell_type": "code",
   "source": "",
   "id": "82918b0c13e39d56",
   "outputs": [],
   "execution_count": 5
  }
 ],
 "metadata": {
  "kernelspec": {
   "display_name": "Python 3",
   "language": "python",
   "name": "python3"
  },
  "language_info": {
   "codemirror_mode": {
    "name": "ipython",
    "version": 2
   },
   "file_extension": ".py",
   "mimetype": "text/x-python",
   "name": "python",
   "nbconvert_exporter": "python",
   "pygments_lexer": "ipython2",
   "version": "2.7.6"
  }
 },
 "nbformat": 4,
 "nbformat_minor": 5
}
