{
 "cells": [
  {
   "cell_type": "code",
   "source": [
    "# In the prompt, it is given that the reserve price is unknown but\n",
    "# grows linearly from 900 to 1000.\n",
    "\n",
    "# I assume that the pdf of the reserve price is parametrized by a (0 < a< 1)\n",
    "# and it is given by\n",
    "# f(x) = a/100 + (1-a)*(x-900)/5000\n",
    "\n",
    "# Let us denote the low bid as x1+900 and the high bid as x2+900\n",
    "# Doing the integral, the expected reward is given by,\n",
    "\n",
    "def reward_fun(a,x1,x2):\n",
    "    result = 0\n",
    "    result += a*(100-x1)*x1/100.0 +a*(100-x2)*(x2-x1)/100.0\n",
    "    result += (1-a)*(100-x1)*(x1**2)/10000.0 +(1-a)*(100-x2)*(x2**2-x1**2)/10000.0\n",
    "    return result\n",
    "\n",
    "# Brute force the optimal solutions\n",
    "def find_optimal(a):\n",
    "    optim_pairs = 0\n",
    "    optim_rewards = 0\n",
    "    for x1 in range(0,101):\n",
    "        for x2 in range(x1+1, 101):\n",
    "            curr_reward = reward_fun(a, x1,x2)\n",
    "            if curr_reward > optim_rewards:\n",
    "                optim_rewards = curr_reward\n",
    "                optim_pairs = (x1,x2)\n",
    "    return optim_rewards, optim_pairs"
   ],
   "metadata": {
    "collapsed": false,
    "ExecuteTime": {
     "end_time": "2024-04-08T11:26:36.517013Z",
     "start_time": "2024-04-08T11:26:36.510839Z"
    }
   },
   "id": "58120e7031907054",
   "outputs": [],
   "execution_count": 11
  },
  {
   "cell_type": "code",
   "source": [
    "a = 0\n",
    "\n",
    "reward, bids  = find_optimal(float(a))\n",
    "print(\"reward : \", reward)\n",
    "print(\"(low bid, high bid) : \", bids)"
   ],
   "metadata": {
    "collapsed": false,
    "ExecuteTime": {
     "end_time": "2024-04-08T11:26:37.266648Z",
     "start_time": "2024-04-08T11:26:37.240280Z"
    }
   },
   "id": "251c010f22719fda",
   "outputs": [
    {
     "name": "stdout",
     "output_type": "stream",
     "text": [
      "reward :  20.4152\n",
      "(low bid, high bid) :  (52, 78)\n"
     ]
    }
   ],
   "execution_count": 12
  },
  {
   "metadata": {
    "ExecuteTime": {
     "end_time": "2024-04-08T11:27:16.442331Z",
     "start_time": "2024-04-08T11:27:11.293888Z"
    }
   },
   "cell_type": "code",
   "source": [
    "import statistics as stat\n",
    "\n",
    "d = {}\n",
    "\n",
    "for a in range(0, 1000):\n",
    "    reward, bids  = find_optimal(a / 1000)\n",
    "    d[a] = (reward, bids)\n",
    "\n",
    "low_bids = [v[1][0] for v in d.values()]\n",
    "high_bids = [v[1][1] for v in d.values()]\n",
    "rewards = [v[0] for v in d.values()]\n",
    "\n",
    "print('low:', stat.fmean(low_bids, weights=rewards) + 900)\n",
    "print('high:', stat.fmean(high_bids, weights=rewards) + 900)"
   ],
   "id": "ed4dcd6c1f31d4c2",
   "outputs": [
    {
     "name": "stdout",
     "output_type": "stream",
     "text": [
      "low: 940.7735076246277\n",
      "high: 971.9804966330775\n"
     ]
    }
   ],
   "execution_count": 13
  },
  {
   "metadata": {},
   "cell_type": "code",
   "outputs": [],
   "execution_count": null,
   "source": "",
   "id": "58951885909681cf"
  }
 ],
 "metadata": {
  "kernelspec": {
   "display_name": "Python 3",
   "language": "python",
   "name": "python3"
  },
  "language_info": {
   "codemirror_mode": {
    "name": "ipython",
    "version": 2
   },
   "file_extension": ".py",
   "mimetype": "text/x-python",
   "name": "python",
   "nbconvert_exporter": "python",
   "pygments_lexer": "ipython2",
   "version": "2.7.6"
  }
 },
 "nbformat": 4,
 "nbformat_minor": 5
}
