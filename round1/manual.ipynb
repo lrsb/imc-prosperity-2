{
 "cells": [
  {
   "cell_type": "code",
   "outputs": [],
   "source": [
    "# In the prompt, it is given that the reserve price is unknown but\n",
    "# grows linearly from 900 to 1000.\n",
    "\n",
    "# I assume that the pdf of the reserve price is parametrized by a (0 < a< 1)\n",
    "# and it is given by\n",
    "# f(x) = a/100 + (1-a)*(x-900)/50\n",
    "\n",
    "# Let us denote the low bid as x1+900 and the high bid as x2+900\n",
    "# Doing the integral, the expected reward is given by,\n",
    "\n",
    "def reward_fun(a,x1,x2):\n",
    "    result = 0\n",
    "    result += a*(100-x1)*x1/100.0 +a*(100-x2)*(x2-x1)/100.0\n",
    "    result += (1-a)*(100-x1)*(x1**2)/10000.0 +(1-a)*(100-x2)*(x2**2-x1**2)/10000.0\n",
    "    return result\n",
    "\n",
    "# Brute force the optimal solutions\n",
    "def find_optimal(a):\n",
    "    optim_pairs = 0\n",
    "    optim_rewards = 0\n",
    "    for x1 in range(0,101):\n",
    "        for x2 in range(x1+1, 101):\n",
    "            curr_reward = reward_fun(a, x1,x2)\n",
    "            if curr_reward > optim_rewards:\n",
    "                optim_rewards = curr_reward\n",
    "                optim_pairs = (x1,x2)\n",
    "    return optim_rewards, optim_pairs\n"
   ],
   "metadata": {
    "collapsed": false
   },
   "id": "58120e7031907054"
  },
  {
   "cell_type": "code",
   "outputs": [],
   "source": [
    "a = 0\n",
    "\n",
    "reward, bids  = find_optimal(float(a))\n",
    "print(\"reward : \", reward)\n",
    "print(\"(low bid, high bid) : \", bids)"
   ],
   "metadata": {
    "collapsed": false
   },
   "id": "251c010f22719fda"
  }
 ],
 "metadata": {
  "kernelspec": {
   "display_name": "Python 3",
   "language": "python",
   "name": "python3"
  },
  "language_info": {
   "codemirror_mode": {
    "name": "ipython",
    "version": 2
   },
   "file_extension": ".py",
   "mimetype": "text/x-python",
   "name": "python",
   "nbconvert_exporter": "python",
   "pygments_lexer": "ipython2",
   "version": "2.7.6"
  }
 },
 "nbformat": 4,
 "nbformat_minor": 5
}
