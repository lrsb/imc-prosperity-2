{
 "cells": [
  {
   "metadata": {},
   "cell_type": "markdown",
   "source": [
    "### Trade objective\n",
    "A huge school of goldfish arrived at our shores. And they all brought scuba gear they want to get rid of fast. For the right price of course.\n",
    "You only have two chances to offer a good price. Each one of the goldfish will accept the lowest bid that is over their reserve price. There’s a constant desire for scuba gear on the archipelago. So, at the end of the round, you’ll be able to sell them for 1000 SeaShells a piece. Your goal is to set prices that ensure a profitable trade with as many goldfish as possible.\n",
    "Once you are satisfied with your strategy and input, use the ‘Submit manual trade’ button to lock it in. Note that you can (re)submit new strategies as long as the round is still in progress. As soon as the round ends, the trading strategy that was submitted last will be processed.\n",
    "Good luck and have fun trading!\n",
    "\n",
    "Set your prices to buy scuba gear. You can set a lowest and a highest bid. Whilst not every goldfish has the same reserve price, you know the distribution of their reserve prices. The reserve price will be no lower than 900 and no higher than 1000. The probability scales linearly from least likely at 900 to most likely at 1000."
   ],
   "id": "52a3d8d30aae4e1e"
  },
  {
   "cell_type": "code",
   "source": [
    "# In the prompt, it is given that the reserve price is unknown but\n",
    "# grows linearly from 900 to 1000.\n",
    "\n",
    "# I assume that the pdf of the reserve price is parametrized by a (0 < a < 1)\n",
    "# and it is given by\n",
    "# f(x) = a/100 + (1-a)*(x-900)/5000\n",
    "\n",
    "# Let us denote the low bid as x1+900 and the high bid as x2+900\n",
    "# Doing the integral, the expected reward is given by,\n",
    "\n",
    "def reward_fun(a,x1,x2):\n",
    "    result = 0\n",
    "    result += a * (100 - x1) * x1 / 100.0 + a * (100 - x2) * (x2 - x1) / 100.0\n",
    "    result += (1 - a) * (100 - x1) * (x1 ** 2) / 10000.0 + (1 - a) * (100 - x2) * (x2 ** 2 - x1 ** 2) / 10000.0\n",
    "    return result\n",
    "\n",
    "# Brute force the optimal solutions\n",
    "def find_optimal(a):\n",
    "    optim_pairs = 0\n",
    "    optim_rewards = 0\n",
    "    for x1 in range(0,101):\n",
    "        for x2 in range(x1+1, 101):\n",
    "            curr_reward = reward_fun(a, x1,x2)\n",
    "            if curr_reward > optim_rewards:\n",
    "                optim_rewards = curr_reward\n",
    "                optim_pairs = (x1,x2)\n",
    "    return optim_rewards, optim_pairs"
   ],
   "metadata": {
    "collapsed": false,
    "ExecuteTime": {
     "end_time": "2024-04-08T16:14:21.153014Z",
     "start_time": "2024-04-08T16:14:21.127808Z"
    }
   },
   "id": "58120e7031907054",
   "outputs": [],
   "execution_count": 7
  },
  {
   "metadata": {
    "ExecuteTime": {
     "end_time": "2024-04-08T17:32:32.544658Z",
     "start_time": "2024-04-08T17:31:40.764075Z"
    }
   },
   "cell_type": "code",
   "source": [
    "import statistics as stat\n",
    "\n",
    "d = {}\n",
    "\n",
    "for a in range(0, 10000):\n",
    "    reward, bids  = find_optimal(a / 10000)\n",
    "    d[a] = (reward, bids)\n",
    "\n",
    "low_bids = [v[1][0] for v in d.values()]\n",
    "high_bids = [v[1][1] for v in d.values()]\n",
    "rewards = [v[0] for v in d.values()]\n",
    "\n",
    "print('low:', stat.fmean(low_bids, weights=rewards) + 900)\n",
    "print('high:', stat.fmean(high_bids, weights=rewards) + 900)\n",
    "\n",
    "print('low:', stat.fmean(low_bids) + 900)\n",
    "print('high:', stat.fmean(high_bids) + 900)"
   ],
   "id": "ed4dcd6c1f31d4c2",
   "outputs": [
    {
     "name": "stdout",
     "output_type": "stream",
     "text": [
      "low: 940.7649430267438\n",
      "high: 971.9748039242704\n",
      "low: 941.5358\n",
      "high: 972.456\n"
     ]
    }
   ],
   "execution_count": 10
  },
  {
   "metadata": {
    "ExecuteTime": {
     "end_time": "2024-04-08T19:00:39.533551Z",
     "start_time": "2024-04-08T19:00:39.524937Z"
    }
   },
   "cell_type": "code",
   "source": [
    "# After some clarifications p(900) = 0, which makes a = 0\n",
    "\n",
    "a = 0\n",
    "\n",
    "reward, bids  = find_optimal(float(a))\n",
    "print(\"reward : \", reward)\n",
    "print(\"(low bid, high bid) : \", bids[0] + 900, bids[1] + 900)"
   ],
   "id": "5474b748e9a052d",
   "outputs": [
    {
     "name": "stdout",
     "output_type": "stream",
     "text": [
      "reward :  20.4152\n",
      "(low bid, high bid) :  952 978\n"
     ]
    }
   ],
   "execution_count": 13
  },
  {
   "metadata": {},
   "cell_type": "code",
   "outputs": [],
   "execution_count": null,
   "source": "",
   "id": "fa15632b10b78f5"
  }
 ],
 "metadata": {
  "kernelspec": {
   "display_name": "Python 3",
   "language": "python",
   "name": "python3"
  },
  "language_info": {
   "codemirror_mode": {
    "name": "ipython",
    "version": 2
   },
   "file_extension": ".py",
   "mimetype": "text/x-python",
   "name": "python",
   "nbconvert_exporter": "python",
   "pygments_lexer": "ipython2",
   "version": "2.7.6"
  }
 },
 "nbformat": 4,
 "nbformat_minor": 5
}
